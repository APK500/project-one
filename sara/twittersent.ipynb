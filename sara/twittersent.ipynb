{
 "cells": [
  {
   "cell_type": "code",
   "execution_count": 1,
   "metadata": {},
   "outputs": [],
   "source": [
    "import tweepy\n",
    "import time\n",
    "import requests\n",
    "import json\n",
    "import numpy as np\n",
    "from datetime import datetime as dt\n",
    "import matplotlib.pyplot as plt\n",
    "import json\n",
    "import pandas as pd\n",
    "from config_Sara import consumer_key,consumer_secret,access_token,access_token_secret,maps_key,place_key"
   ]
  },
  {
   "cell_type": "code",
   "execution_count": 2,
   "metadata": {},
   "outputs": [],
   "source": [
    "from vaderSentiment.vaderSentiment import SentimentIntensityAnalyzer\n",
    "analyzer = SentimentIntensityAnalyzer()\n",
    "auth = tweepy.OAuthHandler(consumer_key, consumer_secret)\n",
    "auth.set_access_token(access_token, access_token_secret)\n",
    "api = tweepy.API(auth, parser=tweepy.parsers.JSONParser())"
   ]
  },
  {
   "cell_type": "code",
   "execution_count": 118,
   "metadata": {},
   "outputs": [],
   "source": [
    "citiescsv = \"cities1.csv\"\n",
    "cities_df = pd.read_csv(citiescsv)\n",
    "cities_df=cities_df.rename(columns={\"City/Region\": \"City\"})\n",
    "cities_df[\"City\"]=cities_df[\"City\"].str.lower()\n",
    "previousrank1 = pd.read_csv(\"twitter_ranksmarch23.csv\")\n",
    "previousrank2 = pd.read_csv(\"twitter_ranksmarch24.csv\")"
   ]
  },
  {
   "cell_type": "code",
   "execution_count": 5,
   "metadata": {},
   "outputs": [],
   "source": [
    "##Determines the latitude and longitude for each city\n",
    "##We only wants tweets that are coming from these areas\n",
    "cities_lat_long = {}\n",
    "for index,row in cities_df.iterrows():\n",
    "    target_city = cities_df[\"City\"][index]+ \", \"+cities_df[\"State\"][index]\n",
    "    target_url = \"https://maps.googleapis.com/maps/api/geocode/json?\" \\\n",
    "    \"address=%s&key=%s\" % (target_city, maps_key)\n",
    "    geo_data = requests.get(target_url).json()\n",
    "    lat = geo_data[\"results\"][0][\"geometry\"][\"location\"][\"lat\"]\n",
    "    lng = geo_data[\"results\"][0][\"geometry\"][\"location\"][\"lng\"]\n",
    "    cities_lat_long[cities_df[\"City\"][index]] = [lat,lng]\n",
    "    \n",
    "    \n",
    "  "
   ]
  },
  {
   "cell_type": "code",
   "execution_count": 10,
   "metadata": {},
   "outputs": [],
   "source": [
    "dict_of_tweets_cities = {}\n",
    "dict_of_tweet_text = {}\n",
    "for index,row in cities_df.iterrows():\n",
    "    search_term = row[\"City\"]\n",
    "    lat1 =  cities_lat_long[row[\"City\"]][0]\n",
    "    lng1 =  cities_lat_long[row[\"City\"]][1]\n",
    "    ##for 500 tweets per city\n",
    "    oldest_tweet = None\n",
    "# Save the list of tweets\n",
    "    tweet_array = []\n",
    "    tweet_text_array = []\n",
    "    for x in range(5):\n",
    "        public_tweets = api.search(search_term, geocode =str(lat1)+\",\"+str(lng1)+\",\"+\"30mi\",count = 100,result_type=\"recent\",max_id=oldest_tweet)\n",
    "        for tweet in public_tweets[\"statuses\"]:\n",
    "            tweet_array.append(tweet)\n",
    "            tweet_text_array.append(tweet[\"text\"])\n",
    "            oldest_tweet = int(tweet[\"id_str\"])\n",
    "            oldest_tweet = oldest_tweet-1\n",
    "    dict_of_tweets_cities[row[\"City\"]] = tweet_array\n",
    "    dict_of_tweet_text[row[\"City\"]] = tweet_text_array\n",
    "    \n",
    " "
   ]
  },
  {
   "cell_type": "code",
   "execution_count": 16,
   "metadata": {},
   "outputs": [],
   "source": [
    "sentiments = []\n",
    "for key in dict_of_tweet_text:\n",
    "    \n",
    "    tweets = dict_of_tweet_text[key] \n",
    "    count1 = 0\n",
    "    \n",
    "    for tweet in tweets:\n",
    "        \n",
    "        compound = analyzer.polarity_scores(tweet)[\"compound\"]\n",
    "        pos = analyzer.polarity_scores(tweet)[\"pos\"]\n",
    "        neu = analyzer.polarity_scores(tweet)[\"neu\"]\n",
    "        neg = analyzer.polarity_scores(tweet)[\"neg\"]\n",
    "        tweets_ago = count1\n",
    "        #tweet_text = tweet[\"text\"] \n",
    "        sentiments.append({\"City\": key,\n",
    "                      #   \"Date\": tweet[\"created_at\"],\n",
    "                         \"Compound\": compound,\n",
    "                         \"Positive\": pos,\n",
    "                         \"Negative\": neg,\n",
    "                         \"Neutral\": neu,\n",
    "                         \"Tweets Ago\": count1,\n",
    "                         \"Text\": tweet})\n",
    "        count1+=1\n",
    "        \n",
    "        "
   ]
  },
  {
   "cell_type": "code",
   "execution_count": 97,
   "metadata": {},
   "outputs": [],
   "source": []
  },
  {
   "cell_type": "code",
   "execution_count": 99,
   "metadata": {},
   "outputs": [],
   "source": []
  },
  {
   "cell_type": "code",
   "execution_count": 101,
   "metadata": {},
   "outputs": [],
   "source": []
  },
  {
   "cell_type": "code",
   "execution_count": 94,
   "metadata": {},
   "outputs": [],
   "source": []
  },
  {
   "cell_type": "code",
   "execution_count": 94,
   "metadata": {},
   "outputs": [
    {
     "data": {
      "text/html": [
       "<div>\n",
       "<style>\n",
       "    .dataframe thead tr:only-child th {\n",
       "        text-align: right;\n",
       "    }\n",
       "\n",
       "    .dataframe thead th {\n",
       "        text-align: left;\n",
       "    }\n",
       "\n",
       "    .dataframe tbody tr th {\n",
       "        vertical-align: top;\n",
       "    }\n",
       "</style>\n",
       "<table border=\"1\" class=\"dataframe\">\n",
       "  <thead>\n",
       "    <tr style=\"text-align: right;\">\n",
       "      <th></th>\n",
       "      <th>City</th>\n",
       "      <th>Compound</th>\n",
       "      <th>Negative</th>\n",
       "      <th>Neutral</th>\n",
       "      <th>Positive</th>\n",
       "      <th>Text</th>\n",
       "      <th>Tweets Ago</th>\n",
       "    </tr>\n",
       "  </thead>\n",
       "  <tbody>\n",
       "    <tr>\n",
       "      <th>0</th>\n",
       "      <td>atlanta</td>\n",
       "      <td>0.4215</td>\n",
       "      <td>0.0</td>\n",
       "      <td>0.851</td>\n",
       "      <td>0.149</td>\n",
       "      <td>\"Adaptability is about the powerful difference...</td>\n",
       "      <td>0</td>\n",
       "    </tr>\n",
       "    <tr>\n",
       "      <th>1</th>\n",
       "      <td>atlanta</td>\n",
       "      <td>0.0000</td>\n",
       "      <td>0.0</td>\n",
       "      <td>1.000</td>\n",
       "      <td>0.000</td>\n",
       "      <td>RT @ryangravel: #MarchForOurLives #Atlanta htt...</td>\n",
       "      <td>1</td>\n",
       "    </tr>\n",
       "    <tr>\n",
       "      <th>2</th>\n",
       "      <td>atlanta</td>\n",
       "      <td>0.4019</td>\n",
       "      <td>0.0</td>\n",
       "      <td>0.764</td>\n",
       "      <td>0.236</td>\n",
       "      <td>Just played: SCAD ATLANTA RADIO - Do You Want ...</td>\n",
       "      <td>2</td>\n",
       "    </tr>\n",
       "    <tr>\n",
       "      <th>3</th>\n",
       "      <td>atlanta</td>\n",
       "      <td>0.5267</td>\n",
       "      <td>0.0</td>\n",
       "      <td>0.746</td>\n",
       "      <td>0.254</td>\n",
       "      <td>RT @peach_usb: Vibrant Thing 🙏🏽\\n\\n#UsbDripCha...</td>\n",
       "      <td>3</td>\n",
       "    </tr>\n",
       "    <tr>\n",
       "      <th>4</th>\n",
       "      <td>atlanta</td>\n",
       "      <td>0.0000</td>\n",
       "      <td>0.0</td>\n",
       "      <td>1.000</td>\n",
       "      <td>0.000</td>\n",
       "      <td>Client Spotlight: -&amp;gt; @MBStadium Preview Cen...</td>\n",
       "      <td>4</td>\n",
       "    </tr>\n",
       "  </tbody>\n",
       "</table>\n",
       "</div>"
      ],
      "text/plain": [
       "      City  Compound  Negative  Neutral  Positive  \\\n",
       "0  atlanta    0.4215       0.0    0.851     0.149   \n",
       "1  atlanta    0.0000       0.0    1.000     0.000   \n",
       "2  atlanta    0.4019       0.0    0.764     0.236   \n",
       "3  atlanta    0.5267       0.0    0.746     0.254   \n",
       "4  atlanta    0.0000       0.0    1.000     0.000   \n",
       "\n",
       "                                                Text  Tweets Ago  \n",
       "0  \"Adaptability is about the powerful difference...           0  \n",
       "1  RT @ryangravel: #MarchForOurLives #Atlanta htt...           1  \n",
       "2  Just played: SCAD ATLANTA RADIO - Do You Want ...           2  \n",
       "3  RT @peach_usb: Vibrant Thing 🙏🏽\\n\\n#UsbDripCha...           3  \n",
       "4  Client Spotlight: -&gt; @MBStadium Preview Cen...           4  "
      ]
     },
     "execution_count": 94,
     "metadata": {},
     "output_type": "execute_result"
    }
   ],
   "source": [
    "sentiments_cities = pd.DataFrame.from_dict(sentiments)\n",
    "sentiments_cities.head()"
   ]
  },
  {
   "cell_type": "code",
   "execution_count": 21,
   "metadata": {},
   "outputs": [
    {
     "data": {
      "text/html": [
       "<div>\n",
       "<style>\n",
       "    .dataframe thead tr:only-child th {\n",
       "        text-align: right;\n",
       "    }\n",
       "\n",
       "    .dataframe thead th {\n",
       "        text-align: left;\n",
       "    }\n",
       "\n",
       "    .dataframe tbody tr th {\n",
       "        vertical-align: top;\n",
       "    }\n",
       "</style>\n",
       "<table border=\"1\" class=\"dataframe\">\n",
       "  <thead>\n",
       "    <tr style=\"text-align: right;\">\n",
       "      <th></th>\n",
       "      <th>Compound</th>\n",
       "    </tr>\n",
       "    <tr>\n",
       "      <th>City</th>\n",
       "      <th></th>\n",
       "    </tr>\n",
       "  </thead>\n",
       "  <tbody>\n",
       "    <tr>\n",
       "      <th>alexandria</th>\n",
       "      <td>0.043773</td>\n",
       "    </tr>\n",
       "    <tr>\n",
       "      <th>atlanta</th>\n",
       "      <td>0.150022</td>\n",
       "    </tr>\n",
       "    <tr>\n",
       "      <th>austin</th>\n",
       "      <td>0.165425</td>\n",
       "    </tr>\n",
       "    <tr>\n",
       "      <th>boston</th>\n",
       "      <td>0.058769</td>\n",
       "    </tr>\n",
       "    <tr>\n",
       "      <th>chicago</th>\n",
       "      <td>0.124053</td>\n",
       "    </tr>\n",
       "    <tr>\n",
       "      <th>columbus</th>\n",
       "      <td>0.075362</td>\n",
       "    </tr>\n",
       "    <tr>\n",
       "      <th>dallas</th>\n",
       "      <td>0.173084</td>\n",
       "    </tr>\n",
       "    <tr>\n",
       "      <th>denver</th>\n",
       "      <td>0.183526</td>\n",
       "    </tr>\n",
       "    <tr>\n",
       "      <th>indianapolis</th>\n",
       "      <td>0.061197</td>\n",
       "    </tr>\n",
       "    <tr>\n",
       "      <th>los angeles</th>\n",
       "      <td>0.046414</td>\n",
       "    </tr>\n",
       "    <tr>\n",
       "      <th>miami</th>\n",
       "      <td>0.155205</td>\n",
       "    </tr>\n",
       "    <tr>\n",
       "      <th>nashville</th>\n",
       "      <td>0.202863</td>\n",
       "    </tr>\n",
       "    <tr>\n",
       "      <th>new york</th>\n",
       "      <td>-0.008198</td>\n",
       "    </tr>\n",
       "    <tr>\n",
       "      <th>newark</th>\n",
       "      <td>0.131316</td>\n",
       "    </tr>\n",
       "    <tr>\n",
       "      <th>philadelphia</th>\n",
       "      <td>0.085615</td>\n",
       "    </tr>\n",
       "    <tr>\n",
       "      <th>pittsburgh</th>\n",
       "      <td>0.130089</td>\n",
       "    </tr>\n",
       "    <tr>\n",
       "      <th>raleigh</th>\n",
       "      <td>0.082096</td>\n",
       "    </tr>\n",
       "    <tr>\n",
       "      <th>rockville</th>\n",
       "      <td>0.187171</td>\n",
       "    </tr>\n",
       "    <tr>\n",
       "      <th>washington</th>\n",
       "      <td>-0.112381</td>\n",
       "    </tr>\n",
       "  </tbody>\n",
       "</table>\n",
       "</div>"
      ],
      "text/plain": [
       "              Compound\n",
       "City                  \n",
       "alexandria    0.043773\n",
       "atlanta       0.150022\n",
       "austin        0.165425\n",
       "boston        0.058769\n",
       "chicago       0.124053\n",
       "columbus      0.075362\n",
       "dallas        0.173084\n",
       "denver        0.183526\n",
       "indianapolis  0.061197\n",
       "los angeles   0.046414\n",
       "miami         0.155205\n",
       "nashville     0.202863\n",
       "new york     -0.008198\n",
       "newark        0.131316\n",
       "philadelphia  0.085615\n",
       "pittsburgh    0.130089\n",
       "raleigh       0.082096\n",
       "rockville     0.187171\n",
       "washington   -0.112381"
      ]
     },
     "execution_count": 21,
     "metadata": {},
     "output_type": "execute_result"
    }
   ],
   "source": [
    "avg_sent = sentiments_cities.groupby(\"City\")\n",
    "means_sentiments = pd.DataFrame(avg_sent[\"Compound\"].mean())\n",
    "means_sentiments"
   ]
  },
  {
   "cell_type": "code",
   "execution_count": 22,
   "metadata": {},
   "outputs": [],
   "source": [
    "means_sentiments.reset_index(level=0,inplace = True)"
   ]
  },
  {
   "cell_type": "code",
   "execution_count": 23,
   "metadata": {},
   "outputs": [],
   "source": [
    "means_sentiments\n",
    "means_sentiments_max = max(means_sentiments[\"Compound\"])\n",
    "means_sentiments_min = min(means_sentiments[\"Compound\"])\n",
    "means_sentiments_range = means_sentiments_max-means_sentiments_min\n",
    "means_sentiments[\"Degree_score\"]=1.0"
   ]
  },
  {
   "cell_type": "code",
   "execution_count": 24,
   "metadata": {},
   "outputs": [],
   "source": [
    "for index,row in means_sentiments.iterrows():\n",
    "    score = (row[\"Compound\"]-means_sentiments_min)/means_sentiments_range*10\n",
    "    score = round(score,1)\n",
    "    means_sentiments.set_value(index,\"Degree_score\",score)"
   ]
  },
  {
   "cell_type": "code",
   "execution_count": 25,
   "metadata": {},
   "outputs": [],
   "source": [
    "means_sentiments.sort_values(\"Degree_score\",ascending=False)"
   ]
  },
  {
   "cell_type": "code",
   "execution_count": 96,
   "metadata": {},
   "outputs": [],
   "source": [
    "means_sentiments.to_csv(\"twitter_ranksmarch25.csv\")"
   ]
  },
  {
   "cell_type": "code",
   "execution_count": 96,
   "metadata": {},
   "outputs": [],
   "source": [
    "previousrank1\n",
    "previousrank2\n",
    "final_df = pd.merge(previousrank1,previousrank2,on=\"City\",how=\"outer\")\n",
    "final_df = pd.merge(final_df,means_sentiments,on=\"City\",how=\"outer\")"
   ]
  },
  {
   "cell_type": "code",
   "execution_count": 103,
   "metadata": {},
   "outputs": [],
   "source": [
    "final_df_max = max(final_df[\"Total Degree Score\"])\n",
    "final_df_min = min(final_df[\"Total Degree Score\"])\n",
    "final_df_range = final_df_max-final_df_min\n",
    "final_df[\"Final Degree Score\"]=1.0"
   ]
  },
  {
   "cell_type": "code",
   "execution_count": 107,
   "metadata": {},
   "outputs": [],
   "source": [
    "for index,row in final_df.iterrows():\n",
    "    score = (row[\"Total Degree Score\"]-final_df_min)/final_df_range*10\n",
    "    score = round(score,1)\n",
    "    final_df.set_value(index,\"Final Degree Score\",score)\n",
    "    \n",
    "    "
   ]
  },
  {
   "cell_type": "code",
   "execution_count": 110,
   "metadata": {},
   "outputs": [],
   "source": [
    "final_df.to_csv(\"Finalrank.csv\")"
   ]
  },
  {
   "cell_type": "code",
   "execution_count": 121,
   "metadata": {},
   "outputs": [
    {
     "data": {
      "image/png": "[encoded data removed]",
      "text/plain": [
       "<matplotlib.figure.Figure at 0x1d492cf7470>"
      ]
     },
     "metadata": {},
     "output_type": "display_data"
    }
   ],
   "source": [
    "fig, ax = plt.subplots(figsize = (15,10))\n",
    "\n",
    "mean_sentiments =avg_sent[\"Compound\"].mean()\n",
    "\n",
    "x_axis = np.arange(len(mean_sentiments))\n",
    "count2 = 0\n",
    "count = 0\n",
    "for sent in mean_sentiments:\n",
    "    ax.text(count2, sent+.01, str(round(sent,2)))\n",
    "    count2+=1\n",
    "plt.ylim(-.15,.35)\n",
    "plt.bar(x_axis, mean_sentiments, tick_label = list(mean_sentiments.index), color = 'r')\n",
    "plt.title(\"Overall Sentiment of City Tweets \")\n",
    "plt.xlabel(\"Cities\")\n",
    "plt.ylabel(\"Tweet Sentiment Polarity\")\n",
    "plt.xticks(rotation=90)\n",
    "plt.savefig(\"Overall Sentiment of City Tweets 1\")\n",
    "plt.show()"
   ]
  },
  {
   "cell_type": "code",
   "execution_count": 120,
   "metadata": {},
   "outputs": [
    {
     "data": {
      "image/png": "[encoded data removed]",
      "text/plain": [
       "<matplotlib.figure.Figure at 0x1d4937b87f0>"
      ]
     },
     "metadata": {},
     "output_type": "display_data"
    }
   ],
   "source": [
    "fig, ax = plt.subplots(figsize = (15,10))\n",
    "\n",
    "#mean_sentiments =avg_sent[\"Compound\"].mean()\n",
    "\n",
    "x_axis = np.arange(len(previousrank1[\"Compound\"]))\n",
    "count2 = 0\n",
    "count = 0\n",
    "for sent in previousrank1[\"Compound\"]:\n",
    "    ax.text(count2, sent+.01, str(round(sent,2)))\n",
    "    count2+=1\n",
    "plt.ylim(-.15,.35)\n",
    "plt.bar(x_axis, previousrank1[\"Compound\"], tick_label = list(previousrank1[\"City\"]), color = 'b')\n",
    "plt.title(\"Overall Sentiment of City Tweets \")\n",
    "plt.xlabel(\"Cities\")\n",
    "plt.ylabel(\"Tweet Sentiment Polarity\")\n",
    "plt.xticks(rotation=90)\n",
    "plt.savefig(\"Overall Sentiment of City Tweets 2\")\n",
    "plt.show()"
   ]
  },
  {
   "cell_type": "code",
   "execution_count": 122,
   "metadata": {},
   "outputs": [
    {
     "data": {
      "image/png": "[encoded data removed]",
      "text/plain": [
       "<matplotlib.figure.Figure at 0x1d4937fb6d8>"
      ]
     },
     "metadata": {},
     "output_type": "display_data"
    }
   ],
   "source": [
    "fig, ax = plt.subplots(figsize = (15,10))\n",
    "\n",
    "#mean_sentiments =avg_sent[\"Compound\"].mean()\n",
    "\n",
    "x_axis = np.arange(len(previousrank2[\"Compound\"]))\n",
    "count2 = 0\n",
    "count = 0\n",
    "for sent in previousrank2[\"Compound\"]:\n",
    "    ax.text(count2, sent+.01, str(round(sent,2)))\n",
    "    count2+=1\n",
    "plt.ylim(-.15,.35)\n",
    "plt.bar(x_axis, previousrank2[\"Compound\"], tick_label = list(previousrank2[\"City\"]), color = 'g')\n",
    "plt.title(\"Overall Sentiment of City Tweets \")\n",
    "plt.xlabel(\"Cities\")\n",
    "plt.ylabel(\"Tweet Sentiment Polarity\")\n",
    "plt.xticks(rotation=90)\n",
    "plt.savefig(\"Overall Sentiment of City Tweets 3\")\n",
    "plt.show()"
   ]
  },
  {
   "cell_type": "code",
   "execution_count": null,
   "metadata": {},
   "outputs": [],
   "source": []
  }
 ],
 "metadata": {
  "kernelspec": {
   "display_name": "Python 3",
   "language": "python",
   "name": "python3"
  },
  "language_info": {
   "codemirror_mode": {
    "name": "ipython",
    "version": 3
   },
   "file_extension": ".py",
   "mimetype": "text/x-python",
   "name": "python",
   "nbconvert_exporter": "python",
   "pygments_lexer": "ipython3",
   "version": "3.6.3"
  }
 },
 "nbformat": 4,
 "nbformat_minor": 2
}
