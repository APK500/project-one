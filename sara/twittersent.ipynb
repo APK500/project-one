{
 "cells": [
  {
   "cell_type": "code",
   "execution_count": 19,
   "metadata": {},
   "outputs": [],
   "source": [
    "import tweepy\n",
    "import time\n",
    "import requests\n",
    "import json\n",
    "import numpy as np\n",
    "from datetime import datetime as dt\n",
    "import matplotlib.pyplot as plt\n",
    "import json\n",
    "import pandas as pd\n",
    "from config_Sara import consumer_key,consumer_secret,access_token,access_token_secret,maps_key,place_key"
   ]
  },
  {
   "cell_type": "code",
   "execution_count": 20,
   "metadata": {},
   "outputs": [],
   "source": [
    "from vaderSentiment.vaderSentiment import SentimentIntensityAnalyzer\n",
    "analyzer = SentimentIntensityAnalyzer()\n",
    "auth = tweepy.OAuthHandler(consumer_key, consumer_secret)\n",
    "auth.set_access_token(access_token, access_token_secret)\n",
    "api = tweepy.API(auth, parser=tweepy.parsers.JSONParser())"
   ]
  },
  {
   "cell_type": "code",
   "execution_count": 6,
   "metadata": {},
   "outputs": [
    {
     "data": {
      "text/plain": [
       "'columbus'"
      ]
     },
     "execution_count": 6,
     "metadata": {},
     "output_type": "execute_result"
    }
   ],
   "source": [
    "citiescsv = \"cities1.csv\"\n",
    "cities_df = pd.read_csv(citiescsv)\n",
    "cities_df=cities_df.rename(columns={\"City/Region\": \"City\"})\n",
    "cities_df[\"City\"]=cities_df[\"City\"].str.lower()\n"
   ]
  },
  {
   "cell_type": "code",
   "execution_count": 21,
   "metadata": {},
   "outputs": [],
   "source": [
    "cities_lat_long = {}\n",
    "for index,row in cities_df.iterrows():\n",
    "    target_city = cities_df[\"City\"][index]+ \", \"+cities_df[\"State\"][index]\n",
    "    target_url = \"https://maps.googleapis.com/maps/api/geocode/json?\" \\\n",
    "    \"address=%s&key=%s\" % (target_city, maps_key)\n",
    "    geo_data = requests.get(target_url).json()\n",
    "    lat = geo_data[\"results\"][0][\"geometry\"][\"location\"][\"lat\"]\n",
    "    lng = geo_data[\"results\"][0][\"geometry\"][\"location\"][\"lng\"]\n",
    "    cities_lat_long[cities_df[\"City\"][index]] = [lat,lng]\n",
    "    \n",
    "    "
   ]
  },
  {
   "cell_type": "code",
   "execution_count": 26,
   "metadata": {},
   "outputs": [
    {
     "data": {
      "text/plain": [
       "'33.7489954'"
      ]
     },
     "execution_count": 26,
     "metadata": {},
     "output_type": "execute_result"
    }
   ],
   "source": [
    "cities_lat_long"
   ]
  },
  {
   "cell_type": "code",
   "execution_count": 27,
   "metadata": {},
   "outputs": [],
   "source": [
    "dict_of_tweets_cities = {}\n",
    "dict_of_tweet_text = {}\n",
    "for index,row in cities_df.iterrows():\n",
    "    search_term = row[\"City\"]\n",
    "    lat1 =  cities_lat_long[row[\"City\"]][0]\n",
    "    lng1 =  cities_lat_long[row[\"City\"]][1]\n",
    "    ##for 500 tweets per city\n",
    "    oldest_tweet = None\n",
    "# Save the list of tweets\n",
    "    tweet_array = []\n",
    "    tweet_text_array = []\n",
    "    for x in range(5):\n",
    "        public_tweets = api.search(search_term, geocode =str(lat1)+\",\"+str(lng1)+\",\"+\"30mi\",count = 100,result_type=\"recent\",max_id=oldest_tweet)\n",
    "        for tweet in public_tweets[\"statuses\"]:\n",
    "            tweet_array.append(tweet)\n",
    "            tweet_text_array.append(tweet[\"text\"])\n",
    "            oldest_tweet = int(tweet[\"id_str\"])\n",
    "            oldest_tweet = oldest_tweet-1\n",
    "    dict_of_tweets_cities[row[\"City\"]] = tweet_array\n",
    "    dict_of_tweet_text[row[\"City\"]] = tweet_text_array\n",
    "            "
   ]
  },
  {
   "cell_type": "code",
   "execution_count": 37,
   "metadata": {},
   "outputs": [],
   "source": [
    "sentiments = []\n",
    "for key in dict_of_tweet_text:\n",
    "    \n",
    "    tweets = dict_of_tweet_text[key] \n",
    "    count1 = 0\n",
    "    \n",
    "    for tweet in tweets:\n",
    "        \n",
    "        compound = analyzer.polarity_scores(tweet)[\"compound\"]\n",
    "        pos = analyzer.polarity_scores(tweet)[\"pos\"]\n",
    "        neu = analyzer.polarity_scores(tweet)[\"neu\"]\n",
    "        neg = analyzer.polarity_scores(tweet)[\"neg\"]\n",
    "        tweets_ago = count1\n",
    "        #tweet_text = tweet[\"text\"] \n",
    "        sentiments.append({\"City\": key,\n",
    "                      #   \"Date\": tweet[\"created_at\"],\n",
    "                         \"Compound\": compound,\n",
    "                         \"Positive\": pos,\n",
    "                         \"Negative\": neg,\n",
    "                         \"Neutral\": neu,\n",
    "                         \"Tweets Ago\": count1,\n",
    "                         \"Text\": tweet})\n",
    "        count1+=1"
   ]
  },
  {
   "cell_type": "code",
   "execution_count": 43,
   "metadata": {},
   "outputs": [
    {
     "data": {
      "text/html": [
       "<div>\n",
       "<style>\n",
       "    .dataframe thead tr:only-child th {\n",
       "        text-align: right;\n",
       "    }\n",
       "\n",
       "    .dataframe thead th {\n",
       "        text-align: left;\n",
       "    }\n",
       "\n",
       "    .dataframe tbody tr th {\n",
       "        vertical-align: top;\n",
       "    }\n",
       "</style>\n",
       "<table border=\"1\" class=\"dataframe\">\n",
       "  <thead>\n",
       "    <tr style=\"text-align: right;\">\n",
       "      <th></th>\n",
       "      <th>City</th>\n",
       "      <th>Compound</th>\n",
       "      <th>Negative</th>\n",
       "      <th>Neutral</th>\n",
       "      <th>Positive</th>\n",
       "      <th>Text</th>\n",
       "      <th>Tweets Ago</th>\n",
       "    </tr>\n",
       "  </thead>\n",
       "  <tbody>\n",
       "    <tr>\n",
       "      <th>0</th>\n",
       "      <td>atlanta</td>\n",
       "      <td>0.0000</td>\n",
       "      <td>0.0</td>\n",
       "      <td>1.000</td>\n",
       "      <td>0.000</td>\n",
       "      <td>NAHS 2, ALPH 5 | Final Score https://t.co/UwZW...</td>\n",
       "      <td>0</td>\n",
       "    </tr>\n",
       "    <tr>\n",
       "      <th>1</th>\n",
       "      <td>atlanta</td>\n",
       "      <td>0.0000</td>\n",
       "      <td>0.0</td>\n",
       "      <td>1.000</td>\n",
       "      <td>0.000</td>\n",
       "      <td>Tolu Akanni, @elfizconcept is now trending in ...</td>\n",
       "      <td>1</td>\n",
       "    </tr>\n",
       "    <tr>\n",
       "      <th>2</th>\n",
       "      <td>atlanta</td>\n",
       "      <td>0.0000</td>\n",
       "      <td>0.0</td>\n",
       "      <td>1.000</td>\n",
       "      <td>0.000</td>\n",
       "      <td>Private Tutor - datafest - Atlanta, GA https:/...</td>\n",
       "      <td>2</td>\n",
       "    </tr>\n",
       "    <tr>\n",
       "      <th>3</th>\n",
       "      <td>atlanta</td>\n",
       "      <td>0.0000</td>\n",
       "      <td>0.0</td>\n",
       "      <td>1.000</td>\n",
       "      <td>0.000</td>\n",
       "      <td>RT @halfthewayhome: NEWT adopted! \\n\\n#HTWH #A...</td>\n",
       "      <td>3</td>\n",
       "    </tr>\n",
       "    <tr>\n",
       "      <th>4</th>\n",
       "      <td>atlanta</td>\n",
       "      <td>0.7256</td>\n",
       "      <td>0.0</td>\n",
       "      <td>0.791</td>\n",
       "      <td>0.209</td>\n",
       "      <td>RT @Creflo_Dollar: Men! Join me Saturday March...</td>\n",
       "      <td>4</td>\n",
       "    </tr>\n",
       "  </tbody>\n",
       "</table>\n",
       "</div>"
      ],
      "text/plain": [
       "      City  Compound  Negative  Neutral  Positive  \\\n",
       "0  atlanta    0.0000       0.0    1.000     0.000   \n",
       "1  atlanta    0.0000       0.0    1.000     0.000   \n",
       "2  atlanta    0.0000       0.0    1.000     0.000   \n",
       "3  atlanta    0.0000       0.0    1.000     0.000   \n",
       "4  atlanta    0.7256       0.0    0.791     0.209   \n",
       "\n",
       "                                                Text  Tweets Ago  \n",
       "0  NAHS 2, ALPH 5 | Final Score https://t.co/UwZW...           0  \n",
       "1  Tolu Akanni, @elfizconcept is now trending in ...           1  \n",
       "2  Private Tutor - datafest - Atlanta, GA https:/...           2  \n",
       "3  RT @halfthewayhome: NEWT adopted! \\n\\n#HTWH #A...           3  \n",
       "4  RT @Creflo_Dollar: Men! Join me Saturday March...           4  "
      ]
     },
     "execution_count": 43,
     "metadata": {},
     "output_type": "execute_result"
    }
   ],
   "source": [
    "sentiments_cities = pd.DataFrame.from_dict(sentiments)\n",
    "sentiments_cities.head()"
   ]
  },
  {
   "cell_type": "code",
   "execution_count": 50,
   "metadata": {},
   "outputs": [],
   "source": [
    "avg_sent = sentiments_cities.groupby(\"City\")\n",
    "means_sentiments = pd.DataFrame(avg_sent[\"Compound\"].mean())"
   ]
  },
  {
   "cell_type": "code",
   "execution_count": 50,
   "metadata": {},
   "outputs": [],
   "source": [
    "means_sentiments.reset_index(level=0,inplace = True)"
   ]
  },
  {
   "cell_type": "code",
   "execution_count": 56,
   "metadata": {},
   "outputs": [],
   "source": [
    "means_sentiments\n",
    "means_sentiments_max = max(means_sentiments[\"Compound\"])\n",
    "means_sentiments_min = min(means_sentiments[\"Compound\"])\n",
    "means_sentiments_range = means_sentiments_max-means_sentiments_min\n",
    "means_sentiments[\"Degree_score\"]=1.0"
   ]
  },
  {
   "cell_type": "code",
   "execution_count": 57,
   "metadata": {},
   "outputs": [],
   "source": [
    "for index,row in means_sentiments.iterrows():\n",
    "    score = (row[\"Compound\"]-means_sentiments_min)/means_sentiments_range*10\n",
    "    score = round(score,1)\n",
    "    means_sentiments.set_value(index,\"Degree_score\",score)"
   ]
  },
  {
   "cell_type": "code",
   "execution_count": 59,
   "metadata": {},
   "outputs": [
    {
     "data": {
      "text/html": [
       "<div>\n",
       "<style>\n",
       "    .dataframe thead tr:only-child th {\n",
       "        text-align: right;\n",
       "    }\n",
       "\n",
       "    .dataframe thead th {\n",
       "        text-align: left;\n",
       "    }\n",
       "\n",
       "    .dataframe tbody tr th {\n",
       "        vertical-align: top;\n",
       "    }\n",
       "</style>\n",
       "<table border=\"1\" class=\"dataframe\">\n",
       "  <thead>\n",
       "    <tr style=\"text-align: right;\">\n",
       "      <th></th>\n",
       "      <th>City</th>\n",
       "      <th>Compound</th>\n",
       "      <th>Degree_score</th>\n",
       "    </tr>\n",
       "  </thead>\n",
       "  <tbody>\n",
       "    <tr>\n",
       "      <th>10</th>\n",
       "      <td>miami</td>\n",
       "      <td>0.277160</td>\n",
       "      <td>10.0</td>\n",
       "    </tr>\n",
       "    <tr>\n",
       "      <th>15</th>\n",
       "      <td>pittsburgh</td>\n",
       "      <td>0.197391</td>\n",
       "      <td>8.3</td>\n",
       "    </tr>\n",
       "    <tr>\n",
       "      <th>11</th>\n",
       "      <td>nashville</td>\n",
       "      <td>0.193239</td>\n",
       "      <td>8.3</td>\n",
       "    </tr>\n",
       "    <tr>\n",
       "      <th>1</th>\n",
       "      <td>atlanta</td>\n",
       "      <td>0.173942</td>\n",
       "      <td>7.9</td>\n",
       "    </tr>\n",
       "    <tr>\n",
       "      <th>7</th>\n",
       "      <td>denver</td>\n",
       "      <td>0.155278</td>\n",
       "      <td>7.5</td>\n",
       "    </tr>\n",
       "    <tr>\n",
       "      <th>8</th>\n",
       "      <td>indianapolis</td>\n",
       "      <td>0.155943</td>\n",
       "      <td>7.5</td>\n",
       "    </tr>\n",
       "    <tr>\n",
       "      <th>2</th>\n",
       "      <td>austin</td>\n",
       "      <td>0.147265</td>\n",
       "      <td>7.3</td>\n",
       "    </tr>\n",
       "    <tr>\n",
       "      <th>17</th>\n",
       "      <td>rockville</td>\n",
       "      <td>0.138819</td>\n",
       "      <td>7.1</td>\n",
       "    </tr>\n",
       "    <tr>\n",
       "      <th>13</th>\n",
       "      <td>newark</td>\n",
       "      <td>0.138080</td>\n",
       "      <td>7.1</td>\n",
       "    </tr>\n",
       "    <tr>\n",
       "      <th>9</th>\n",
       "      <td>los angeles</td>\n",
       "      <td>0.129343</td>\n",
       "      <td>6.9</td>\n",
       "    </tr>\n",
       "    <tr>\n",
       "      <th>0</th>\n",
       "      <td>alexandria</td>\n",
       "      <td>0.124065</td>\n",
       "      <td>6.8</td>\n",
       "    </tr>\n",
       "    <tr>\n",
       "      <th>16</th>\n",
       "      <td>raleigh</td>\n",
       "      <td>0.114362</td>\n",
       "      <td>6.6</td>\n",
       "    </tr>\n",
       "    <tr>\n",
       "      <th>5</th>\n",
       "      <td>columbus</td>\n",
       "      <td>0.092735</td>\n",
       "      <td>6.2</td>\n",
       "    </tr>\n",
       "    <tr>\n",
       "      <th>3</th>\n",
       "      <td>boston</td>\n",
       "      <td>0.078493</td>\n",
       "      <td>5.9</td>\n",
       "    </tr>\n",
       "    <tr>\n",
       "      <th>6</th>\n",
       "      <td>dallas</td>\n",
       "      <td>0.066886</td>\n",
       "      <td>5.6</td>\n",
       "    </tr>\n",
       "    <tr>\n",
       "      <th>14</th>\n",
       "      <td>philadelphia</td>\n",
       "      <td>0.034603</td>\n",
       "      <td>5.0</td>\n",
       "    </tr>\n",
       "    <tr>\n",
       "      <th>12</th>\n",
       "      <td>new york</td>\n",
       "      <td>0.018357</td>\n",
       "      <td>4.6</td>\n",
       "    </tr>\n",
       "    <tr>\n",
       "      <th>4</th>\n",
       "      <td>chicago</td>\n",
       "      <td>0.010986</td>\n",
       "      <td>4.5</td>\n",
       "    </tr>\n",
       "    <tr>\n",
       "      <th>18</th>\n",
       "      <td>washington</td>\n",
       "      <td>-0.203734</td>\n",
       "      <td>0.0</td>\n",
       "    </tr>\n",
       "  </tbody>\n",
       "</table>\n",
       "</div>"
      ],
      "text/plain": [
       "            City  Compound  Degree_score\n",
       "10         miami  0.277160          10.0\n",
       "15    pittsburgh  0.197391           8.3\n",
       "11     nashville  0.193239           8.3\n",
       "1        atlanta  0.173942           7.9\n",
       "7         denver  0.155278           7.5\n",
       "8   indianapolis  0.155943           7.5\n",
       "2         austin  0.147265           7.3\n",
       "17     rockville  0.138819           7.1\n",
       "13        newark  0.138080           7.1\n",
       "9    los angeles  0.129343           6.9\n",
       "0     alexandria  0.124065           6.8\n",
       "16       raleigh  0.114362           6.6\n",
       "5       columbus  0.092735           6.2\n",
       "3         boston  0.078493           5.9\n",
       "6         dallas  0.066886           5.6\n",
       "14  philadelphia  0.034603           5.0\n",
       "12      new york  0.018357           4.6\n",
       "4        chicago  0.010986           4.5\n",
       "18    washington -0.203734           0.0"
      ]
     },
     "execution_count": 59,
     "metadata": {},
     "output_type": "execute_result"
    }
   ],
   "source": [
    "means_sentiments.sort_values(\"Degree_score\",ascending=False)"
   ]
  },
  {
   "cell_type": "code",
   "execution_count": 64,
   "metadata": {},
   "outputs": [],
   "source": [
    "##This figure sucks\n",
    "\n",
    "for each in cities_lat_long:\n",
    "    users_df = sentiments_cities.loc[sentiments_cities[\"City\"] == each]\n",
    "    plt.scatter(sentiments_cities[\"Tweets Ago\"],sentiments_cities[\"Compound\"],label = each)"
   ]
  },
  {
   "cell_type": "code",
   "execution_count": 65,
   "metadata": {},
   "outputs": [
    {
     "data": {
      "image/png": "[encoded data removed]",
      "text/plain": [
       "<matplotlib.figure.Figure at 0x1b20e75b128>"
      ]
     },
     "metadata": {},
     "output_type": "display_data"
    }
   ],
   "source": [
    "plt.xlim(100,-1)\n",
    "plt.legend(bbox_to_anchor=(1,1))\n",
    "plt.title(\"Sentiment Analysis of City Tweets\")\n",
    "plt.xlabel(\"Number of Tweets Ago\")\n",
    "plt.ylabel(\"Tweet sentiment polarity\")\n",
    "#plt.savefig(\"Sentiment Analysis of News Tweets\")\n",
    "plt.grid(True)\n",
    "plt.show()"
   ]
  },
  {
   "cell_type": "code",
   "execution_count": 85,
   "metadata": {},
   "outputs": [
    {
     "data": {
      "image/png": "[encoded data removed]",
      "text/plain": [
       "<matplotlib.figure.Figure at 0x1b20f379cc0>"
      ]
     },
     "metadata": {},
     "output_type": "display_data"
    }
   ],
   "source": [
    "fig, ax = plt.subplots()\n",
    "\n",
    "mean_sentiments =avg_sent[\"Compound\"].mean()\n",
    "\n",
    "x_axis = np.arange(len(mean_sentiments))\n",
    "count2 = 0\n",
    "count = 0\n",
    "for sent in mean_sentiments:\n",
    "    ax.text(count2, sent+.01, str(round(sent,2)))\n",
    "    count2+=1\n",
    "plt.ylim(-.15,.35)\n",
    "plt.bar(x_axis, mean_sentiments, tick_label = list(mean_sentiments.index), color = 'r')\n",
    "plt.title(\"Overall Sentiment of City Tweets \")\n",
    "plt.xlabel(\"Cities\")\n",
    "plt.ylabel(\"Tweet Sentiment Polarity\")\n",
    "plt.xticks(rotation=90)\n",
    "#plt.savefig(\"Overall Sentiment of City Tweets\")\n",
    "plt.show()"
   ]
  },
  {
   "cell_type": "code",
   "execution_count": 68,
   "metadata": {},
   "outputs": [
    {
     "name": "stdout",
     "output_type": "stream",
     "text": [
      "City\n",
      "Compound\n",
      "Degree_score\n"
     ]
    }
   ],
   "source": [
    "for sent in means_sentiments:\n",
    "    print(sent)"
   ]
  },
  {
   "cell_type": "code",
   "execution_count": 70,
   "metadata": {},
   "outputs": [
    {
     "data": {
      "text/plain": [
       "City\n",
       "alexandria      0.124065\n",
       "atlanta         0.173942\n",
       "austin          0.147265\n",
       "boston          0.078493\n",
       "chicago         0.010986\n",
       "columbus        0.092735\n",
       "dallas          0.066886\n",
       "denver          0.155278\n",
       "indianapolis    0.155943\n",
       "los angeles     0.129343\n",
       "miami           0.277160\n",
       "nashville       0.193239\n",
       "new york        0.018357\n",
       "newark          0.138080\n",
       "philadelphia    0.034603\n",
       "pittsburgh      0.197391\n",
       "raleigh         0.114362\n",
       "rockville       0.138819\n",
       "washington     -0.203734\n",
       "Name: Compound, dtype: float64"
      ]
     },
     "execution_count": 70,
     "metadata": {},
     "output_type": "execute_result"
    }
   ],
   "source": []
  },
  {
   "cell_type": "code",
   "execution_count": null,
   "metadata": {},
   "outputs": [],
   "source": []
  },
  {
   "cell_type": "markdown",
   "metadata": {},
   "source": [
    "mean_sentiments.index"
   ]
  },
  {
   "cell_type": "code",
   "execution_count": null,
   "metadata": {},
   "outputs": [],
   "source": []
  }
 ],
 "metadata": {
  "kernelspec": {
   "display_name": "Python 3",
   "language": "python",
   "name": "python3"
  },
  "language_info": {
   "codemirror_mode": {
    "name": "ipython",
    "version": 3
   },
   "file_extension": ".py",
   "mimetype": "text/x-python",
   "name": "python",
   "nbconvert_exporter": "python",
   "pygments_lexer": "ipython3",
   "version": "3.6.3"
  }
 },
 "nbformat": 4,
 "nbformat_minor": 2
}
